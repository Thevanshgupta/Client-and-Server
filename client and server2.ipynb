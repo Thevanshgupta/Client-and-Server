{
 "cells": [
  {
   "cell_type": "code",
   "execution_count": 1,
   "id": "2cb448cb-8ea7-4071-8a50-9cdc26f5ed16",
   "metadata": {},
   "outputs": [
    {
     "name": "stdout",
     "output_type": "stream",
     "text": [
      "Connected to server 127.0.0.1:65432\n"
     ]
    },
    {
     "name": "stdout",
     "output_type": "stream",
     "text": [
      "Enter message (type 'exit' to quit):  hello\n"
     ]
    },
    {
     "name": "stdout",
     "output_type": "stream",
     "text": [
      "Received from server: hello\n"
     ]
    },
    {
     "name": "stdout",
     "output_type": "stream",
     "text": [
      "Enter message (type 'exit' to quit):  exit\n"
     ]
    }
   ],
   "source": [
    "import socket\n",
    "\n",
    "def start_client(host='127.0.0.1', port=65432):\n",
    "    with socket.socket(socket.AF_INET, socket.SOCK_STREAM) as client_socket:\n",
    "        client_socket.connect((host, port))\n",
    "        print(f\"Connected to server {host}:{port}\")\n",
    "        while True:\n",
    "            message = input(\"Enter message (type 'exit' to quit): \")\n",
    "            if message.lower() == 'exit':\n",
    "                break\n",
    "            client_socket.sendall(message.encode())\n",
    "            data = client_socket.recv(1024)\n",
    "            print(f\"Received from server: {data.decode()}\")\n",
    "\n",
    "if __name__ == \"__main__\":\n",
    "    start_client()\n"
   ]
  },
  {
   "cell_type": "code",
   "execution_count": null,
   "id": "1fffb3b7-7e25-42ec-a97e-4e5fb5d45307",
   "metadata": {},
   "outputs": [],
   "source": [
    "# for the client and her we can send the data to the user and the output to the server by using a particular port"
   ]
  }
 ],
 "metadata": {
  "kernelspec": {
   "display_name": "Python 3 (ipykernel)",
   "language": "python",
   "name": "python3"
  },
  "language_info": {
   "codemirror_mode": {
    "name": "ipython",
    "version": 3
   },
   "file_extension": ".py",
   "mimetype": "text/x-python",
   "name": "python",
   "nbconvert_exporter": "python",
   "pygments_lexer": "ipython3",
   "version": "3.12.3"
  }
 },
 "nbformat": 4,
 "nbformat_minor": 5
}
