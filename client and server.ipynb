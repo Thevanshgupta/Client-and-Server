{
 "cells": [
  {
   "cell_type": "code",
   "execution_count": 1,
   "id": "037cb842-28d0-4b51-b0ff-43082b64a763",
   "metadata": {},
   "outputs": [
    {
     "name": "stdout",
     "output_type": "stream",
     "text": [
      "Server listening on 127.0.0.1:65432\n",
      "Connected by ('127.0.0.1', 53808)\n",
      "Received: hello\n"
     ]
    }
   ],
   "source": [
    "import socket\n",
    "\n",
    "def start_server(host='127.0.0.1', port=65432):\n",
    "    with socket.socket(socket.AF_INET, socket.SOCK_STREAM) as server_socket:\n",
    "        server_socket.bind((host, port))\n",
    "        server_socket.listen()\n",
    "        print(f\"Server listening on {host}:{port}\")\n",
    "        conn, addr = server_socket.accept()\n",
    "        with conn:\n",
    "            print(f\"Connected by {addr}\")\n",
    "            while True:\n",
    "                data = conn.recv(1024)\n",
    "                if not data:\n",
    "                    break\n",
    "                print(f\"Received: {data.decode()}\")\n",
    "                conn.sendall(data)  # Echoes back the data\n",
    "\n",
    "if __name__ == \"__main__\":\n",
    "    start_server()\n"
   ]
  },
  {
   "cell_type": "code",
   "execution_count": null,
   "id": "421878d3-8791-4aba-95a5-47143db6332a",
   "metadata": {},
   "outputs": [],
   "source": [
    "#here is the code for the server where the prot is defined and in this port when i start differnet clients come together and share the data"
   ]
  }
 ],
 "metadata": {
  "kernelspec": {
   "display_name": "Python 3 (ipykernel)",
   "language": "python",
   "name": "python3"
  },
  "language_info": {
   "codemirror_mode": {
    "name": "ipython",
    "version": 3
   },
   "file_extension": ".py",
   "mimetype": "text/x-python",
   "name": "python",
   "nbconvert_exporter": "python",
   "pygments_lexer": "ipython3",
   "version": "3.12.3"
  }
 },
 "nbformat": 4,
 "nbformat_minor": 5
}
